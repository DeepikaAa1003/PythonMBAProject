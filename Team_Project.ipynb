{
  "nbformat": 4,
  "nbformat_minor": 0,
  "metadata": {
    "colab": {
      "provenance": [],
      "collapsed_sections": [
        "yum6ZACOfEqt",
        "wuFYoAxmg2sc",
        "UjJdun2Rhzfo",
        "7dEz2nc1kFPC",
        "T9e2XTqCmTrB",
        "SYEWY9Q6eyTN",
        "f_8j3nTiYO4a",
        "cJzZ87HVXhro",
        "2IMvxinznMPv",
        "fA8SwWKriMr7",
        "BdrOR873lx66",
        "Z0Fpv3gGwA5I",
        "S4ot9Fng2gxg",
        "Gc87oZlJgsk1",
        "XufGOOmws_HT",
        "tZ5EwL9oLHa3",
        "mFUGdqL5NC3g",
        "Tb8JiO4CVLh5"
      ]
    },
    "kernelspec": {
      "name": "python3",
      "display_name": "Python 3"
    },
    "language_info": {
      "name": "python"
    }
  },
  "cells": [
    {
      "cell_type": "markdown",
      "source": [
        "Team1 Project- 1) Find the top 10 managers who forecast better for a month\n",
        "                2) Find the top 10 managers who forecast better for entire 6 months"
      ],
      "metadata": {
        "id": "WC4RvNn0S9Af"
      }
    },
    {
      "cell_type": "markdown",
      "source": [
        "# Read the CSV files"
      ],
      "metadata": {
        "id": "2KMvOn_GVcXi"
      }
    },
    {
      "cell_type": "markdown",
      "source": [
        "Read the CSV files from github for each month from Jan to June\n",
        "Each file within its own dataframe"
      ],
      "metadata": {
        "id": "_cR0kEhD3-9a"
      }
    },
    {
      "cell_type": "markdown",
      "source": [
        "Filter all CSV data by project type = MCAP (NOT MEXP)"
      ],
      "metadata": {
        "id": "R88WE8_gEvGi"
      }
    },
    {
      "cell_type": "markdown",
      "source": [
        "# Rows with null values in forecast or actual value columns we need to fill them up with 0s\n",
        "For example - In Jan excel the column \"CY 01 Jan Act\" and \"CY 01 Jan Fcst\" will be used and fill 0s for any null values"
      ],
      "metadata": {
        "id": "gdbYJv7x4cco"
      }
    },
    {
      "cell_type": "markdown",
      "source": [
        "We will have a dataframe with 5 columns - Items, Project manager, Program, \"CY 01 Jan Act\" and \"CY 01 Jan Fcst\""
      ],
      "metadata": {
        "id": "7mxSkCHjFV_4"
      }
    },
    {
      "cell_type": "markdown",
      "source": [
        "Calculate Variance for each row in that  data frame where variance = Jan FCST - Jan Actuals"
      ],
      "metadata": {
        "id": "3z9CNGLDGoRv"
      }
    },
    {
      "cell_type": "markdown",
      "source": [
        "Group by program, project manager and find out the top 10 best performers and last 10 performers"
      ],
      "metadata": {
        "id": "NjiiIumzG--2"
      }
    },
    {
      "cell_type": "markdown",
      "source": [
        "Min and max of those total variance and order by total variance .\n",
        "\n",
        "10 rows with maximum -ve variance\n",
        "10 rows with maximum +ve variance"
      ],
      "metadata": {
        "id": "Uz59p1KrH0Zm"
      }
    },
    {
      "cell_type": "markdown",
      "source": [
        "## Merge the CSV files into 1\n",
        "\n",
        "Get the specific columns from each file and form one dataframe.\n",
        "\n",
        "Example - From Jan CSV file get the Jan Forecast and Jan actuals\n",
        "\n",
        "Sum UP the 6 month FST  and sum up the 6 mont Actuals and calculate a new column for variance and then group by program, project manager\n"
      ],
      "metadata": {
        "id": "3hkc1QL8Lf1k"
      }
    },
    {
      "cell_type": "markdown",
      "source": [
        "## Use matplotlib and draw graphs to show different results"
      ],
      "metadata": {
        "id": "r9SIUSJS4BQ4"
      }
    },
    {
      "cell_type": "markdown",
      "source": [
        "Heat Map of variances\n",
        "Box PLot mean, mode , min and max\n",
        "scatter plot Program vs dollar value of the variance\n",
        "lolipop plot display project manager in order and how big the variance was"
      ],
      "metadata": {
        "id": "TafZ2adWKp8i"
      }
    },
    {
      "cell_type": "markdown",
      "source": [
        "Here is Nate's original document: https://docs.google.com/document/d/1F5BvMRwSVdmHh24SVhx81M5I6PwOKcC5/edit?usp=drive_link&ouid=109818738493599970757&rtpof=true&sd=true"
      ],
      "metadata": {
        "id": "BQT6OlMBKeO9"
      }
    },
    {
      "cell_type": "markdown",
      "source": [
        "# GitHub Link\n",
        "\n",
        "https://github.com/DeepikaAa1003/PythonMBAProject\n"
      ],
      "metadata": {
        "id": "KAepVBRjKje1"
      }
    },
    {
      "cell_type": "markdown",
      "source": [
        "# Useful Visualization Examples\n",
        "\n",
        "https://python-graph-gallery.com/ (Click on \"Chart Types\")"
      ],
      "metadata": {
        "id": "4KAF6EeXKUjC"
      }
    },
    {
      "cell_type": "markdown",
      "source": [
        "# Cheat Sheets for Matplot, Seaborn, and Pandas\n",
        "\n",
        "https://python-graph-gallery.com/cheat-sheets/\n"
      ],
      "metadata": {
        "id": "Hyn5W04WK7Wb"
      }
    }
  ]
}